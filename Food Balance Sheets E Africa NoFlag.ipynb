{
 "cells": [
  {
   "cell_type": "markdown",
   "id": "7c3ca998",
   "metadata": {},
   "source": [
    "# FOOD BALANCE SHEETS E AFRICA NOFLAG "
   ]
  },
  {
   "cell_type": "markdown",
   "id": "e653bbc5",
   "metadata": {},
   "source": [
    "## Import libraries "
   ]
  },
  {
   "cell_type": "code",
   "execution_count": 2,
   "id": "78701adb",
   "metadata": {},
   "outputs": [],
   "source": [
    "import pandas as pd\n",
    "import numpy as np\n",
    "import seaborn as sns\n",
    "import matplotlib.pyplot as plt\n",
    "%matplotlib inline\n",
    "import warnings"
   ]
  },
  {
   "cell_type": "markdown",
   "id": "717a237c",
   "metadata": {},
   "source": [
    "## Read dataset"
   ]
  },
  {
   "cell_type": "code",
   "execution_count": 3,
   "id": "a3b56ad9",
   "metadata": {},
   "outputs": [],
   "source": [
    "food = pd.read_csv(r\"C:\\Users\\Akunna Anyamkpa\\Documents\\HAMOYE\\PROJECT 1\\FoodBalanceSheets_E_Africa_NOFLAG.csv\")"
   ]
  },
  {
   "cell_type": "markdown",
   "id": "77d84609",
   "metadata": {},
   "source": [
    "## Check number of columns and rows"
   ]
  },
  {
   "cell_type": "code",
   "execution_count": 4,
   "id": "6c4a0099",
   "metadata": {},
   "outputs": [
    {
     "data": {
      "text/plain": [
       "(60943, 12)"
      ]
     },
     "execution_count": 4,
     "metadata": {},
     "output_type": "execute_result"
    }
   ],
   "source": [
    "food.shape"
   ]
  },
  {
   "cell_type": "code",
   "execution_count": 5,
   "id": "13382d9a",
   "metadata": {},
   "outputs": [
    {
     "data": {
      "text/html": [
       "<div>\n",
       "<style scoped>\n",
       "    .dataframe tbody tr th:only-of-type {\n",
       "        vertical-align: middle;\n",
       "    }\n",
       "\n",
       "    .dataframe tbody tr th {\n",
       "        vertical-align: top;\n",
       "    }\n",
       "\n",
       "    .dataframe thead th {\n",
       "        text-align: right;\n",
       "    }\n",
       "</style>\n",
       "<table border=\"1\" class=\"dataframe\">\n",
       "  <thead>\n",
       "    <tr style=\"text-align: right;\">\n",
       "      <th></th>\n",
       "      <th>Area Code</th>\n",
       "      <th>Area</th>\n",
       "      <th>Item Code</th>\n",
       "      <th>Item</th>\n",
       "      <th>Element Code</th>\n",
       "      <th>Element</th>\n",
       "      <th>Unit</th>\n",
       "      <th>Y2014</th>\n",
       "      <th>Y2015</th>\n",
       "      <th>Y2016</th>\n",
       "      <th>Y2017</th>\n",
       "      <th>Y2018</th>\n",
       "    </tr>\n",
       "  </thead>\n",
       "  <tbody>\n",
       "    <tr>\n",
       "      <th>0</th>\n",
       "      <td>4</td>\n",
       "      <td>Algeria</td>\n",
       "      <td>2501</td>\n",
       "      <td>Population</td>\n",
       "      <td>511</td>\n",
       "      <td>Total Population - Both sexes</td>\n",
       "      <td>1000 persons</td>\n",
       "      <td>38924.0</td>\n",
       "      <td>39728.00</td>\n",
       "      <td>40551.00</td>\n",
       "      <td>41389.00</td>\n",
       "      <td>42228.00</td>\n",
       "    </tr>\n",
       "    <tr>\n",
       "      <th>1</th>\n",
       "      <td>4</td>\n",
       "      <td>Algeria</td>\n",
       "      <td>2501</td>\n",
       "      <td>Population</td>\n",
       "      <td>5301</td>\n",
       "      <td>Domestic supply quantity</td>\n",
       "      <td>1000 tonnes</td>\n",
       "      <td>0.0</td>\n",
       "      <td>0.00</td>\n",
       "      <td>0.00</td>\n",
       "      <td>0.00</td>\n",
       "      <td>0.00</td>\n",
       "    </tr>\n",
       "    <tr>\n",
       "      <th>2</th>\n",
       "      <td>4</td>\n",
       "      <td>Algeria</td>\n",
       "      <td>2901</td>\n",
       "      <td>Grand Total</td>\n",
       "      <td>664</td>\n",
       "      <td>Food supply (kcal/capita/day)</td>\n",
       "      <td>kcal/capita/day</td>\n",
       "      <td>3377.0</td>\n",
       "      <td>3379.00</td>\n",
       "      <td>3372.00</td>\n",
       "      <td>3341.00</td>\n",
       "      <td>3322.00</td>\n",
       "    </tr>\n",
       "    <tr>\n",
       "      <th>3</th>\n",
       "      <td>4</td>\n",
       "      <td>Algeria</td>\n",
       "      <td>2901</td>\n",
       "      <td>Grand Total</td>\n",
       "      <td>674</td>\n",
       "      <td>Protein supply quantity (g/capita/day)</td>\n",
       "      <td>g/capita/day</td>\n",
       "      <td>94.9</td>\n",
       "      <td>94.35</td>\n",
       "      <td>94.72</td>\n",
       "      <td>92.82</td>\n",
       "      <td>91.83</td>\n",
       "    </tr>\n",
       "  </tbody>\n",
       "</table>\n",
       "</div>"
      ],
      "text/plain": [
       "   Area Code     Area  Item Code         Item  Element Code  \\\n",
       "0          4  Algeria       2501   Population           511   \n",
       "1          4  Algeria       2501   Population          5301   \n",
       "2          4  Algeria       2901  Grand Total           664   \n",
       "3          4  Algeria       2901  Grand Total           674   \n",
       "\n",
       "                                  Element             Unit    Y2014     Y2015  \\\n",
       "0           Total Population - Both sexes     1000 persons  38924.0  39728.00   \n",
       "1                Domestic supply quantity      1000 tonnes      0.0      0.00   \n",
       "2           Food supply (kcal/capita/day)  kcal/capita/day   3377.0   3379.00   \n",
       "3  Protein supply quantity (g/capita/day)     g/capita/day     94.9     94.35   \n",
       "\n",
       "      Y2016     Y2017     Y2018  \n",
       "0  40551.00  41389.00  42228.00  \n",
       "1      0.00      0.00      0.00  \n",
       "2   3372.00   3341.00   3322.00  \n",
       "3     94.72     92.82     91.83  "
      ]
     },
     "execution_count": 5,
     "metadata": {},
     "output_type": "execute_result"
    }
   ],
   "source": [
    "food.head(4)"
   ]
  },
  {
   "cell_type": "code",
   "execution_count": 6,
   "id": "79f9eb1d",
   "metadata": {},
   "outputs": [
    {
     "data": {
      "text/plain": [
       "Index(['Area Code', 'Area', 'Item Code', 'Item', 'Element Code', 'Element',\n",
       "       'Unit', 'Y2014', 'Y2015', 'Y2016', 'Y2017', 'Y2018'],\n",
       "      dtype='object')"
      ]
     },
     "execution_count": 6,
     "metadata": {},
     "output_type": "execute_result"
    }
   ],
   "source": [
    "food.columns"
   ]
  },
  {
   "cell_type": "markdown",
   "id": "fd98b882",
   "metadata": {},
   "source": [
    "## Statistical description"
   ]
  },
  {
   "cell_type": "code",
   "execution_count": 7,
   "id": "4c51899b",
   "metadata": {},
   "outputs": [
    {
     "data": {
      "text/html": [
       "<div>\n",
       "<style scoped>\n",
       "    .dataframe tbody tr th:only-of-type {\n",
       "        vertical-align: middle;\n",
       "    }\n",
       "\n",
       "    .dataframe tbody tr th {\n",
       "        vertical-align: top;\n",
       "    }\n",
       "\n",
       "    .dataframe thead th {\n",
       "        text-align: right;\n",
       "    }\n",
       "</style>\n",
       "<table border=\"1\" class=\"dataframe\">\n",
       "  <thead>\n",
       "    <tr style=\"text-align: right;\">\n",
       "      <th></th>\n",
       "      <th>Area Code</th>\n",
       "      <th>Item Code</th>\n",
       "      <th>Element Code</th>\n",
       "      <th>Y2014</th>\n",
       "      <th>Y2015</th>\n",
       "      <th>Y2016</th>\n",
       "      <th>Y2017</th>\n",
       "      <th>Y2018</th>\n",
       "    </tr>\n",
       "  </thead>\n",
       "  <tbody>\n",
       "    <tr>\n",
       "      <th>count</th>\n",
       "      <td>60943.000000</td>\n",
       "      <td>60943.000000</td>\n",
       "      <td>60943.000000</td>\n",
       "      <td>59354.000000</td>\n",
       "      <td>59395.000000</td>\n",
       "      <td>59408.000000</td>\n",
       "      <td>59437.000000</td>\n",
       "      <td>59507.000000</td>\n",
       "    </tr>\n",
       "    <tr>\n",
       "      <th>mean</th>\n",
       "      <td>134.265576</td>\n",
       "      <td>2687.176706</td>\n",
       "      <td>3814.856456</td>\n",
       "      <td>134.196282</td>\n",
       "      <td>135.235966</td>\n",
       "      <td>136.555222</td>\n",
       "      <td>140.917765</td>\n",
       "      <td>143.758381</td>\n",
       "    </tr>\n",
       "    <tr>\n",
       "      <th>std</th>\n",
       "      <td>72.605709</td>\n",
       "      <td>146.055739</td>\n",
       "      <td>2212.007033</td>\n",
       "      <td>1567.663696</td>\n",
       "      <td>1603.403984</td>\n",
       "      <td>1640.007194</td>\n",
       "      <td>1671.862359</td>\n",
       "      <td>1710.782658</td>\n",
       "    </tr>\n",
       "    <tr>\n",
       "      <th>min</th>\n",
       "      <td>4.000000</td>\n",
       "      <td>2501.000000</td>\n",
       "      <td>511.000000</td>\n",
       "      <td>-1796.000000</td>\n",
       "      <td>-3161.000000</td>\n",
       "      <td>-3225.000000</td>\n",
       "      <td>-1582.000000</td>\n",
       "      <td>-3396.000000</td>\n",
       "    </tr>\n",
       "    <tr>\n",
       "      <th>25%</th>\n",
       "      <td>74.000000</td>\n",
       "      <td>2562.000000</td>\n",
       "      <td>684.000000</td>\n",
       "      <td>0.000000</td>\n",
       "      <td>0.000000</td>\n",
       "      <td>0.000000</td>\n",
       "      <td>0.000000</td>\n",
       "      <td>0.000000</td>\n",
       "    </tr>\n",
       "    <tr>\n",
       "      <th>50%</th>\n",
       "      <td>136.000000</td>\n",
       "      <td>2630.000000</td>\n",
       "      <td>5142.000000</td>\n",
       "      <td>0.090000</td>\n",
       "      <td>0.080000</td>\n",
       "      <td>0.080000</td>\n",
       "      <td>0.100000</td>\n",
       "      <td>0.070000</td>\n",
       "    </tr>\n",
       "    <tr>\n",
       "      <th>75%</th>\n",
       "      <td>195.000000</td>\n",
       "      <td>2775.000000</td>\n",
       "      <td>5511.000000</td>\n",
       "      <td>8.340000</td>\n",
       "      <td>8.460000</td>\n",
       "      <td>8.430000</td>\n",
       "      <td>9.000000</td>\n",
       "      <td>9.000000</td>\n",
       "    </tr>\n",
       "    <tr>\n",
       "      <th>max</th>\n",
       "      <td>276.000000</td>\n",
       "      <td>2961.000000</td>\n",
       "      <td>5911.000000</td>\n",
       "      <td>176405.000000</td>\n",
       "      <td>181137.000000</td>\n",
       "      <td>185960.000000</td>\n",
       "      <td>190873.000000</td>\n",
       "      <td>195875.000000</td>\n",
       "    </tr>\n",
       "  </tbody>\n",
       "</table>\n",
       "</div>"
      ],
      "text/plain": [
       "          Area Code     Item Code  Element Code          Y2014          Y2015  \\\n",
       "count  60943.000000  60943.000000  60943.000000   59354.000000   59395.000000   \n",
       "mean     134.265576   2687.176706   3814.856456     134.196282     135.235966   \n",
       "std       72.605709    146.055739   2212.007033    1567.663696    1603.403984   \n",
       "min        4.000000   2501.000000    511.000000   -1796.000000   -3161.000000   \n",
       "25%       74.000000   2562.000000    684.000000       0.000000       0.000000   \n",
       "50%      136.000000   2630.000000   5142.000000       0.090000       0.080000   \n",
       "75%      195.000000   2775.000000   5511.000000       8.340000       8.460000   \n",
       "max      276.000000   2961.000000   5911.000000  176405.000000  181137.000000   \n",
       "\n",
       "               Y2016          Y2017          Y2018  \n",
       "count   59408.000000   59437.000000   59507.000000  \n",
       "mean      136.555222     140.917765     143.758381  \n",
       "std      1640.007194    1671.862359    1710.782658  \n",
       "min     -3225.000000   -1582.000000   -3396.000000  \n",
       "25%         0.000000       0.000000       0.000000  \n",
       "50%         0.080000       0.100000       0.070000  \n",
       "75%         8.430000       9.000000       9.000000  \n",
       "max    185960.000000  190873.000000  195875.000000  "
      ]
     },
     "execution_count": 7,
     "metadata": {},
     "output_type": "execute_result"
    }
   ],
   "source": [
    "food.describe()"
   ]
  },
  {
   "cell_type": "code",
   "execution_count": 8,
   "id": "b3017e07",
   "metadata": {},
   "outputs": [
    {
     "data": {
      "text/plain": [
       "Area Code         int64\n",
       "Area             object\n",
       "Item Code         int64\n",
       "Item             object\n",
       "Element Code      int64\n",
       "Element          object\n",
       "Unit             object\n",
       "Y2014           float64\n",
       "Y2015           float64\n",
       "Y2016           float64\n",
       "Y2017           float64\n",
       "Y2018           float64\n",
       "dtype: object"
      ]
     },
     "execution_count": 8,
     "metadata": {},
     "output_type": "execute_result"
    }
   ],
   "source": [
    "food.dtypes"
   ]
  },
  {
   "cell_type": "markdown",
   "id": "879bbf0f",
   "metadata": {},
   "source": [
    "# What is the total sum of Animal Fat produced in 2014 and 2017 respectively?"
   ]
  },
  {
   "cell_type": "code",
   "execution_count": 9,
   "id": "ffd38875",
   "metadata": {},
   "outputs": [
    {
     "data": {
      "text/html": [
       "<div>\n",
       "<style scoped>\n",
       "    .dataframe tbody tr th:only-of-type {\n",
       "        vertical-align: middle;\n",
       "    }\n",
       "\n",
       "    .dataframe tbody tr th {\n",
       "        vertical-align: top;\n",
       "    }\n",
       "\n",
       "    .dataframe thead th {\n",
       "        text-align: right;\n",
       "    }\n",
       "</style>\n",
       "<table border=\"1\" class=\"dataframe\">\n",
       "  <thead>\n",
       "    <tr style=\"text-align: right;\">\n",
       "      <th></th>\n",
       "      <th>Area Code</th>\n",
       "      <th>Area</th>\n",
       "      <th>Item Code</th>\n",
       "      <th>Item</th>\n",
       "      <th>Element Code</th>\n",
       "      <th>Element</th>\n",
       "      <th>Unit</th>\n",
       "      <th>Y2014</th>\n",
       "      <th>Y2015</th>\n",
       "      <th>Y2016</th>\n",
       "      <th>Y2017</th>\n",
       "      <th>Y2018</th>\n",
       "    </tr>\n",
       "  </thead>\n",
       "  <tbody>\n",
       "    <tr>\n",
       "      <th>60698</th>\n",
       "      <td>181</td>\n",
       "      <td>Zimbabwe</td>\n",
       "      <td>2946</td>\n",
       "      <td>Animal fats</td>\n",
       "      <td>645</td>\n",
       "      <td>Food supply quantity (kg/capita/yr)</td>\n",
       "      <td>kg</td>\n",
       "      <td>0.69</td>\n",
       "      <td>2.88</td>\n",
       "      <td>6.51</td>\n",
       "      <td>2.51</td>\n",
       "      <td>2.49</td>\n",
       "    </tr>\n",
       "    <tr>\n",
       "      <th>60699</th>\n",
       "      <td>181</td>\n",
       "      <td>Zimbabwe</td>\n",
       "      <td>2946</td>\n",
       "      <td>Animal fats</td>\n",
       "      <td>664</td>\n",
       "      <td>Food supply (kcal/capita/day)</td>\n",
       "      <td>kcal/capita/day</td>\n",
       "      <td>21.00</td>\n",
       "      <td>18.00</td>\n",
       "      <td>18.00</td>\n",
       "      <td>20.00</td>\n",
       "      <td>19.00</td>\n",
       "    </tr>\n",
       "    <tr>\n",
       "      <th>60700</th>\n",
       "      <td>181</td>\n",
       "      <td>Zimbabwe</td>\n",
       "      <td>2946</td>\n",
       "      <td>Animal fats</td>\n",
       "      <td>674</td>\n",
       "      <td>Protein supply quantity (g/capita/day)</td>\n",
       "      <td>g/capita/day</td>\n",
       "      <td>0.04</td>\n",
       "      <td>0.04</td>\n",
       "      <td>0.04</td>\n",
       "      <td>0.03</td>\n",
       "      <td>0.03</td>\n",
       "    </tr>\n",
       "    <tr>\n",
       "      <th>60701</th>\n",
       "      <td>181</td>\n",
       "      <td>Zimbabwe</td>\n",
       "      <td>2946</td>\n",
       "      <td>Animal fats</td>\n",
       "      <td>684</td>\n",
       "      <td>Fat supply quantity (g/capita/day)</td>\n",
       "      <td>g/capita/day</td>\n",
       "      <td>2.33</td>\n",
       "      <td>2.03</td>\n",
       "      <td>2.01</td>\n",
       "      <td>2.18</td>\n",
       "      <td>2.10</td>\n",
       "    </tr>\n",
       "  </tbody>\n",
       "</table>\n",
       "</div>"
      ],
      "text/plain": [
       "       Area Code      Area  Item Code         Item  Element Code  \\\n",
       "60698        181  Zimbabwe       2946  Animal fats           645   \n",
       "60699        181  Zimbabwe       2946  Animal fats           664   \n",
       "60700        181  Zimbabwe       2946  Animal fats           674   \n",
       "60701        181  Zimbabwe       2946  Animal fats           684   \n",
       "\n",
       "                                      Element             Unit  Y2014  Y2015  \\\n",
       "60698     Food supply quantity (kg/capita/yr)               kg   0.69   2.88   \n",
       "60699           Food supply (kcal/capita/day)  kcal/capita/day  21.00  18.00   \n",
       "60700  Protein supply quantity (g/capita/day)     g/capita/day   0.04   0.04   \n",
       "60701      Fat supply quantity (g/capita/day)     g/capita/day   2.33   2.03   \n",
       "\n",
       "       Y2016  Y2017  Y2018  \n",
       "60698   6.51   2.51   2.49  \n",
       "60699  18.00  20.00  19.00  \n",
       "60700   0.04   0.03   0.03  \n",
       "60701   2.01   2.18   2.10  "
      ]
     },
     "metadata": {},
     "output_type": "display_data"
    }
   ],
   "source": [
    "food_an_fat = food.loc[food[\"Item\"] == \"Animal fats\"] \n",
    "display(food_an_fat.tail(4))"
   ]
  },
  {
   "cell_type": "code",
   "execution_count": 10,
   "id": "09154b83",
   "metadata": {},
   "outputs": [
    {
     "data": {
      "text/plain": [
       "209460.54"
      ]
     },
     "execution_count": 10,
     "metadata": {},
     "output_type": "execute_result"
    }
   ],
   "source": [
    "food_an_fat_14 = food_an_fat[\"Y2014\"].sum()\n",
    "food_an_fat_14"
   ]
  },
  {
   "cell_type": "code",
   "execution_count": 11,
   "id": "96863948",
   "metadata": {},
   "outputs": [
    {
     "data": {
      "text/plain": [
       "269617.53"
      ]
     },
     "execution_count": 11,
     "metadata": {},
     "output_type": "execute_result"
    }
   ],
   "source": [
    "food_an_fat_17 = food_an_fat[\"Y2017\"].sum()\n",
    "food_an_fat_17"
   ]
  },
  {
   "cell_type": "markdown",
   "id": "3662ae5a",
   "metadata": {},
   "source": [
    "### Answer: 209460.54, 269617.53"
   ]
  },
  {
   "cell_type": "markdown",
   "id": "e802cf55",
   "metadata": {},
   "source": [
    "# What is the mean and stanard deviation across the whole dataset for the year 2015 to 3 decimal places?"
   ]
  },
  {
   "cell_type": "code",
   "execution_count": 12,
   "id": "b1e61fc2",
   "metadata": {},
   "outputs": [
    {
     "data": {
      "text/plain": [
       "135.236"
      ]
     },
     "execution_count": 12,
     "metadata": {},
     "output_type": "execute_result"
    }
   ],
   "source": [
    "Mean_Y2015 = food[\"Y2015\"].mean()\n",
    "round(Mean_Y2015, 3)"
   ]
  },
  {
   "cell_type": "code",
   "execution_count": 13,
   "id": "32a895a2",
   "metadata": {},
   "outputs": [
    {
     "data": {
      "text/plain": [
       "1603.404"
      ]
     },
     "execution_count": 13,
     "metadata": {},
     "output_type": "execute_result"
    }
   ],
   "source": [
    "Sd_Y2015 = food[\"Y2015\"].std()\n",
    "round(Sd_Y2015, 3)"
   ]
  },
  {
   "cell_type": "markdown",
   "id": "81b5a2f8",
   "metadata": {},
   "source": [
    "### Answer: 135.236, 1603.404"
   ]
  },
  {
   "cell_type": "markdown",
   "id": "c9e8bd61",
   "metadata": {},
   "source": [
    "# What is the total number and percentage of missing data in 2016 to 2 decimal places?"
   ]
  },
  {
   "cell_type": "code",
   "execution_count": 14,
   "id": "fdff4b7d",
   "metadata": {},
   "outputs": [
    {
     "data": {
      "text/plain": [
       "60943"
      ]
     },
     "execution_count": 14,
     "metadata": {},
     "output_type": "execute_result"
    }
   ],
   "source": [
    "Total_count_2016 = len(food[\"Y2016\"])\n",
    "Total_count_2016"
   ]
  },
  {
   "cell_type": "code",
   "execution_count": 15,
   "id": "fc5778ed",
   "metadata": {},
   "outputs": [
    {
     "data": {
      "text/plain": [
       "1535"
      ]
     },
     "execution_count": 15,
     "metadata": {},
     "output_type": "execute_result"
    }
   ],
   "source": [
    "Null_data_2016 = food[\"Y2016\"].isnull().sum()\n",
    "Null_data_2016"
   ]
  },
  {
   "cell_type": "code",
   "execution_count": 16,
   "id": "7496cdf7",
   "metadata": {},
   "outputs": [
    {
     "data": {
      "text/plain": [
       "2.52"
      ]
     },
     "execution_count": 16,
     "metadata": {},
     "output_type": "execute_result"
    }
   ],
   "source": [
    "perc_2016 = ( Null_data_2016 / Total_count_2016 ) * 100\n",
    "round(perc_2016, 2)"
   ]
  },
  {
   "cell_type": "markdown",
   "id": "9120efa0",
   "metadata": {},
   "source": [
    "### Answer: 1535, 2.52"
   ]
  },
  {
   "cell_type": "markdown",
   "id": "dbd93698",
   "metadata": {},
   "source": [
    "# Which year had the highest correlation with 'Element Code'?"
   ]
  },
  {
   "cell_type": "code",
   "execution_count": 17,
   "id": "eb78797b",
   "metadata": {},
   "outputs": [
    {
     "data": {
      "text/html": [
       "<div>\n",
       "<style scoped>\n",
       "    .dataframe tbody tr th:only-of-type {\n",
       "        vertical-align: middle;\n",
       "    }\n",
       "\n",
       "    .dataframe tbody tr th {\n",
       "        vertical-align: top;\n",
       "    }\n",
       "\n",
       "    .dataframe thead th {\n",
       "        text-align: right;\n",
       "    }\n",
       "</style>\n",
       "<table border=\"1\" class=\"dataframe\">\n",
       "  <thead>\n",
       "    <tr style=\"text-align: right;\">\n",
       "      <th></th>\n",
       "      <th>Area Code</th>\n",
       "      <th>Item Code</th>\n",
       "      <th>Element Code</th>\n",
       "      <th>Y2014</th>\n",
       "      <th>Y2015</th>\n",
       "      <th>Y2016</th>\n",
       "      <th>Y2017</th>\n",
       "      <th>Y2018</th>\n",
       "    </tr>\n",
       "  </thead>\n",
       "  <tbody>\n",
       "    <tr>\n",
       "      <th>Area Code</th>\n",
       "      <td>1.000000</td>\n",
       "      <td>-0.005159</td>\n",
       "      <td>-0.000209</td>\n",
       "      <td>0.006164</td>\n",
       "      <td>0.005472</td>\n",
       "      <td>0.005247</td>\n",
       "      <td>0.005006</td>\n",
       "      <td>0.005665</td>\n",
       "    </tr>\n",
       "    <tr>\n",
       "      <th>Item Code</th>\n",
       "      <td>-0.005159</td>\n",
       "      <td>1.000000</td>\n",
       "      <td>-0.024683</td>\n",
       "      <td>0.021722</td>\n",
       "      <td>0.020857</td>\n",
       "      <td>0.020109</td>\n",
       "      <td>0.021494</td>\n",
       "      <td>0.021314</td>\n",
       "    </tr>\n",
       "    <tr>\n",
       "      <th>Element Code</th>\n",
       "      <td>-0.000209</td>\n",
       "      <td>-0.024683</td>\n",
       "      <td>1.000000</td>\n",
       "      <td>0.024457</td>\n",
       "      <td>0.023889</td>\n",
       "      <td>0.023444</td>\n",
       "      <td>0.024254</td>\n",
       "      <td>0.024279</td>\n",
       "    </tr>\n",
       "    <tr>\n",
       "      <th>Y2014</th>\n",
       "      <td>0.006164</td>\n",
       "      <td>0.021722</td>\n",
       "      <td>0.024457</td>\n",
       "      <td>1.000000</td>\n",
       "      <td>0.994647</td>\n",
       "      <td>0.996081</td>\n",
       "      <td>0.995230</td>\n",
       "      <td>0.994872</td>\n",
       "    </tr>\n",
       "    <tr>\n",
       "      <th>Y2015</th>\n",
       "      <td>0.005472</td>\n",
       "      <td>0.020857</td>\n",
       "      <td>0.023889</td>\n",
       "      <td>0.994647</td>\n",
       "      <td>1.000000</td>\n",
       "      <td>0.995739</td>\n",
       "      <td>0.988048</td>\n",
       "      <td>0.988208</td>\n",
       "    </tr>\n",
       "    <tr>\n",
       "      <th>Y2016</th>\n",
       "      <td>0.005247</td>\n",
       "      <td>0.020109</td>\n",
       "      <td>0.023444</td>\n",
       "      <td>0.996081</td>\n",
       "      <td>0.995739</td>\n",
       "      <td>1.000000</td>\n",
       "      <td>0.992785</td>\n",
       "      <td>0.992757</td>\n",
       "    </tr>\n",
       "    <tr>\n",
       "      <th>Y2017</th>\n",
       "      <td>0.005006</td>\n",
       "      <td>0.021494</td>\n",
       "      <td>0.024254</td>\n",
       "      <td>0.995230</td>\n",
       "      <td>0.988048</td>\n",
       "      <td>0.992785</td>\n",
       "      <td>1.000000</td>\n",
       "      <td>0.998103</td>\n",
       "    </tr>\n",
       "    <tr>\n",
       "      <th>Y2018</th>\n",
       "      <td>0.005665</td>\n",
       "      <td>0.021314</td>\n",
       "      <td>0.024279</td>\n",
       "      <td>0.994872</td>\n",
       "      <td>0.988208</td>\n",
       "      <td>0.992757</td>\n",
       "      <td>0.998103</td>\n",
       "      <td>1.000000</td>\n",
       "    </tr>\n",
       "  </tbody>\n",
       "</table>\n",
       "</div>"
      ],
      "text/plain": [
       "              Area Code  Item Code  Element Code     Y2014     Y2015  \\\n",
       "Area Code      1.000000  -0.005159     -0.000209  0.006164  0.005472   \n",
       "Item Code     -0.005159   1.000000     -0.024683  0.021722  0.020857   \n",
       "Element Code  -0.000209  -0.024683      1.000000  0.024457  0.023889   \n",
       "Y2014          0.006164   0.021722      0.024457  1.000000  0.994647   \n",
       "Y2015          0.005472   0.020857      0.023889  0.994647  1.000000   \n",
       "Y2016          0.005247   0.020109      0.023444  0.996081  0.995739   \n",
       "Y2017          0.005006   0.021494      0.024254  0.995230  0.988048   \n",
       "Y2018          0.005665   0.021314      0.024279  0.994872  0.988208   \n",
       "\n",
       "                 Y2016     Y2017     Y2018  \n",
       "Area Code     0.005247  0.005006  0.005665  \n",
       "Item Code     0.020109  0.021494  0.021314  \n",
       "Element Code  0.023444  0.024254  0.024279  \n",
       "Y2014         0.996081  0.995230  0.994872  \n",
       "Y2015         0.995739  0.988048  0.988208  \n",
       "Y2016         1.000000  0.992785  0.992757  \n",
       "Y2017         0.992785  1.000000  0.998103  \n",
       "Y2018         0.992757  0.998103  1.000000  "
      ]
     },
     "execution_count": 17,
     "metadata": {},
     "output_type": "execute_result"
    }
   ],
   "source": [
    "corr = food.corr()\n",
    "corr"
   ]
  },
  {
   "cell_type": "markdown",
   "id": "d67a0fa3",
   "metadata": {},
   "source": [
    "### Answer: 2014"
   ]
  },
  {
   "cell_type": "markdown",
   "id": "697b0fc2",
   "metadata": {},
   "source": [
    "# What year has the highest sum of import Quantity from 2014 up till 2017"
   ]
  },
  {
   "cell_type": "code",
   "execution_count": 18,
   "id": "79f01ce4",
   "metadata": {},
   "outputs": [
    {
     "data": {
      "text/html": [
       "<div>\n",
       "<style scoped>\n",
       "    .dataframe tbody tr th:only-of-type {\n",
       "        vertical-align: middle;\n",
       "    }\n",
       "\n",
       "    .dataframe tbody tr th {\n",
       "        vertical-align: top;\n",
       "    }\n",
       "\n",
       "    .dataframe thead th {\n",
       "        text-align: right;\n",
       "    }\n",
       "</style>\n",
       "<table border=\"1\" class=\"dataframe\">\n",
       "  <thead>\n",
       "    <tr style=\"text-align: right;\">\n",
       "      <th></th>\n",
       "      <th>Area Code</th>\n",
       "      <th>Area</th>\n",
       "      <th>Item Code</th>\n",
       "      <th>Item</th>\n",
       "      <th>Element Code</th>\n",
       "      <th>Element</th>\n",
       "      <th>Unit</th>\n",
       "      <th>Y2014</th>\n",
       "      <th>Y2015</th>\n",
       "      <th>Y2016</th>\n",
       "      <th>Y2017</th>\n",
       "      <th>Y2018</th>\n",
       "    </tr>\n",
       "  </thead>\n",
       "  <tbody>\n",
       "    <tr>\n",
       "      <th>12</th>\n",
       "      <td>4</td>\n",
       "      <td>Algeria</td>\n",
       "      <td>2905</td>\n",
       "      <td>Cereals - Excluding Beer</td>\n",
       "      <td>5611</td>\n",
       "      <td>Import Quantity</td>\n",
       "      <td>1000 tonnes</td>\n",
       "      <td>12604.0</td>\n",
       "      <td>13983.0</td>\n",
       "      <td>13523.0</td>\n",
       "      <td>13039.0</td>\n",
       "      <td>13182.0</td>\n",
       "    </tr>\n",
       "    <tr>\n",
       "      <th>28</th>\n",
       "      <td>4</td>\n",
       "      <td>Algeria</td>\n",
       "      <td>2511</td>\n",
       "      <td>Wheat and products</td>\n",
       "      <td>5611</td>\n",
       "      <td>Import Quantity</td>\n",
       "      <td>1000 tonnes</td>\n",
       "      <td>7461.0</td>\n",
       "      <td>8531.0</td>\n",
       "      <td>8255.0</td>\n",
       "      <td>8105.0</td>\n",
       "      <td>8434.0</td>\n",
       "    </tr>\n",
       "    <tr>\n",
       "      <th>44</th>\n",
       "      <td>4</td>\n",
       "      <td>Algeria</td>\n",
       "      <td>2805</td>\n",
       "      <td>Rice and products</td>\n",
       "      <td>5611</td>\n",
       "      <td>Import Quantity</td>\n",
       "      <td>1000 tonnes</td>\n",
       "      <td>171.0</td>\n",
       "      <td>164.0</td>\n",
       "      <td>162.0</td>\n",
       "      <td>190.0</td>\n",
       "      <td>207.0</td>\n",
       "    </tr>\n",
       "    <tr>\n",
       "      <th>59</th>\n",
       "      <td>4</td>\n",
       "      <td>Algeria</td>\n",
       "      <td>2513</td>\n",
       "      <td>Barley and products</td>\n",
       "      <td>5611</td>\n",
       "      <td>Import Quantity</td>\n",
       "      <td>1000 tonnes</td>\n",
       "      <td>805.0</td>\n",
       "      <td>797.0</td>\n",
       "      <td>916.0</td>\n",
       "      <td>567.0</td>\n",
       "      <td>402.0</td>\n",
       "    </tr>\n",
       "  </tbody>\n",
       "</table>\n",
       "</div>"
      ],
      "text/plain": [
       "    Area Code     Area  Item Code                      Item  Element Code  \\\n",
       "12          4  Algeria       2905  Cereals - Excluding Beer          5611   \n",
       "28          4  Algeria       2511        Wheat and products          5611   \n",
       "44          4  Algeria       2805         Rice and products          5611   \n",
       "59          4  Algeria       2513       Barley and products          5611   \n",
       "\n",
       "            Element         Unit    Y2014    Y2015    Y2016    Y2017    Y2018  \n",
       "12  Import Quantity  1000 tonnes  12604.0  13983.0  13523.0  13039.0  13182.0  \n",
       "28  Import Quantity  1000 tonnes   7461.0   8531.0   8255.0   8105.0   8434.0  \n",
       "44  Import Quantity  1000 tonnes    171.0    164.0    162.0    190.0    207.0  \n",
       "59  Import Quantity  1000 tonnes    805.0    797.0    916.0    567.0    402.0  "
      ]
     },
     "execution_count": 18,
     "metadata": {},
     "output_type": "execute_result"
    }
   ],
   "source": [
    "food_im_qty = food.loc[food[\"Element\"] == \"Import Quantity\"] \n",
    "food_im_qty.head(4)"
   ]
  },
  {
   "cell_type": "code",
   "execution_count": 19,
   "id": "61f06c75",
   "metadata": {},
   "outputs": [
    {
     "data": {
      "text/plain": [
       "7965086.130000001"
      ]
     },
     "execution_count": 19,
     "metadata": {},
     "output_type": "execute_result"
    }
   ],
   "source": [
    "sum_14 = food.Y2014.sum() \n",
    "sum_14"
   ]
  },
  {
   "cell_type": "code",
   "execution_count": 20,
   "id": "8c9c3196",
   "metadata": {},
   "outputs": [
    {
     "data": {
      "text/plain": [
       "8032340.2299999995"
      ]
     },
     "execution_count": 20,
     "metadata": {},
     "output_type": "execute_result"
    }
   ],
   "source": [
    "sum_15 = food.Y2015.sum() \n",
    "sum_15"
   ]
  },
  {
   "cell_type": "code",
   "execution_count": 21,
   "id": "809837c6",
   "metadata": {},
   "outputs": [
    {
     "data": {
      "text/plain": [
       "8112472.649999999"
      ]
     },
     "execution_count": 21,
     "metadata": {},
     "output_type": "execute_result"
    }
   ],
   "source": [
    "sum_16 = food.Y2016.sum() \n",
    "sum_16"
   ]
  },
  {
   "cell_type": "code",
   "execution_count": 22,
   "id": "c7968c72",
   "metadata": {},
   "outputs": [
    {
     "data": {
      "text/plain": [
       "8375729.189999999"
      ]
     },
     "execution_count": 22,
     "metadata": {},
     "output_type": "execute_result"
    }
   ],
   "source": [
    "sum_17 = food.Y2017.sum() \n",
    "sum_17"
   ]
  },
  {
   "cell_type": "markdown",
   "id": "c985888e",
   "metadata": {},
   "source": [
    "### Answer: 2017"
   ]
  },
  {
   "cell_type": "markdown",
   "id": "b1ddce10",
   "metadata": {},
   "source": [
    "# What is the total number of the sum of Production in 2014?"
   ]
  },
  {
   "cell_type": "code",
   "execution_count": 23,
   "id": "34e05a78",
   "metadata": {},
   "outputs": [
    {
     "data": {
      "text/html": [
       "<div>\n",
       "<style scoped>\n",
       "    .dataframe tbody tr th:only-of-type {\n",
       "        vertical-align: middle;\n",
       "    }\n",
       "\n",
       "    .dataframe tbody tr th {\n",
       "        vertical-align: top;\n",
       "    }\n",
       "\n",
       "    .dataframe thead th {\n",
       "        text-align: right;\n",
       "    }\n",
       "</style>\n",
       "<table border=\"1\" class=\"dataframe\">\n",
       "  <thead>\n",
       "    <tr style=\"text-align: right;\">\n",
       "      <th></th>\n",
       "      <th>Area Code</th>\n",
       "      <th>Area</th>\n",
       "      <th>Item Code</th>\n",
       "      <th>Item</th>\n",
       "      <th>Element Code</th>\n",
       "      <th>Element</th>\n",
       "      <th>Unit</th>\n",
       "      <th>Y2014</th>\n",
       "      <th>Y2015</th>\n",
       "      <th>Y2016</th>\n",
       "      <th>Y2017</th>\n",
       "      <th>Y2018</th>\n",
       "    </tr>\n",
       "  </thead>\n",
       "  <tbody>\n",
       "    <tr>\n",
       "      <th>11</th>\n",
       "      <td>4</td>\n",
       "      <td>Algeria</td>\n",
       "      <td>2905</td>\n",
       "      <td>Cereals - Excluding Beer</td>\n",
       "      <td>5511</td>\n",
       "      <td>Production</td>\n",
       "      <td>1000 tonnes</td>\n",
       "      <td>3436.0</td>\n",
       "      <td>3761.0</td>\n",
       "      <td>3445.0</td>\n",
       "      <td>3478.0</td>\n",
       "      <td>6065.0</td>\n",
       "    </tr>\n",
       "    <tr>\n",
       "      <th>27</th>\n",
       "      <td>4</td>\n",
       "      <td>Algeria</td>\n",
       "      <td>2511</td>\n",
       "      <td>Wheat and products</td>\n",
       "      <td>5511</td>\n",
       "      <td>Production</td>\n",
       "      <td>1000 tonnes</td>\n",
       "      <td>2436.0</td>\n",
       "      <td>2657.0</td>\n",
       "      <td>2440.0</td>\n",
       "      <td>2437.0</td>\n",
       "      <td>3981.0</td>\n",
       "    </tr>\n",
       "    <tr>\n",
       "      <th>43</th>\n",
       "      <td>4</td>\n",
       "      <td>Algeria</td>\n",
       "      <td>2805</td>\n",
       "      <td>Rice and products</td>\n",
       "      <td>5511</td>\n",
       "      <td>Production</td>\n",
       "      <td>1000 tonnes</td>\n",
       "      <td>0.0</td>\n",
       "      <td>0.0</td>\n",
       "      <td>0.0</td>\n",
       "      <td>0.0</td>\n",
       "      <td>0.0</td>\n",
       "    </tr>\n",
       "    <tr>\n",
       "      <th>58</th>\n",
       "      <td>4</td>\n",
       "      <td>Algeria</td>\n",
       "      <td>2513</td>\n",
       "      <td>Barley and products</td>\n",
       "      <td>5511</td>\n",
       "      <td>Production</td>\n",
       "      <td>1000 tonnes</td>\n",
       "      <td>939.0</td>\n",
       "      <td>1031.0</td>\n",
       "      <td>920.0</td>\n",
       "      <td>970.0</td>\n",
       "      <td>1957.0</td>\n",
       "    </tr>\n",
       "    <tr>\n",
       "      <th>73</th>\n",
       "      <td>4</td>\n",
       "      <td>Algeria</td>\n",
       "      <td>2514</td>\n",
       "      <td>Maize and products</td>\n",
       "      <td>5511</td>\n",
       "      <td>Production</td>\n",
       "      <td>1000 tonnes</td>\n",
       "      <td>3.0</td>\n",
       "      <td>3.0</td>\n",
       "      <td>4.0</td>\n",
       "      <td>3.0</td>\n",
       "      <td>4.0</td>\n",
       "    </tr>\n",
       "  </tbody>\n",
       "</table>\n",
       "</div>"
      ],
      "text/plain": [
       "    Area Code     Area  Item Code                      Item  Element Code  \\\n",
       "11          4  Algeria       2905  Cereals - Excluding Beer          5511   \n",
       "27          4  Algeria       2511        Wheat and products          5511   \n",
       "43          4  Algeria       2805         Rice and products          5511   \n",
       "58          4  Algeria       2513       Barley and products          5511   \n",
       "73          4  Algeria       2514        Maize and products          5511   \n",
       "\n",
       "       Element         Unit   Y2014   Y2015   Y2016   Y2017   Y2018  \n",
       "11  Production  1000 tonnes  3436.0  3761.0  3445.0  3478.0  6065.0  \n",
       "27  Production  1000 tonnes  2436.0  2657.0  2440.0  2437.0  3981.0  \n",
       "43  Production  1000 tonnes     0.0     0.0     0.0     0.0     0.0  \n",
       "58  Production  1000 tonnes   939.0  1031.0   920.0   970.0  1957.0  \n",
       "73  Production  1000 tonnes     3.0     3.0     4.0     3.0     4.0  "
      ]
     },
     "execution_count": 23,
     "metadata": {},
     "output_type": "execute_result"
    }
   ],
   "source": [
    "food_prod = food.loc[food[\"Element\"] == \"Production\"] \n",
    "food_prod.head(5)"
   ]
  },
  {
   "cell_type": "code",
   "execution_count": 24,
   "id": "ef3a8c47",
   "metadata": {},
   "outputs": [
    {
     "data": {
      "text/plain": [
       "1931287.75"
      ]
     },
     "execution_count": 24,
     "metadata": {},
     "output_type": "execute_result"
    }
   ],
   "source": [
    "food_prod.Y2014.sum()"
   ]
  },
  {
   "cell_type": "markdown",
   "id": "30368eb8",
   "metadata": {},
   "source": [
    "### Answer: 1931287.75"
   ]
  },
  {
   "cell_type": "markdown",
   "id": "18d27e5e",
   "metadata": {},
   "source": [
    "# Which of these elements had the highest sum in 2018?"
   ]
  },
  {
   "cell_type": "code",
   "execution_count": 25,
   "id": "ebdf63eb",
   "metadata": {},
   "outputs": [
    {
     "data": {
      "text/plain": [
       "49056.85"
      ]
     },
     "execution_count": 25,
     "metadata": {},
     "output_type": "execute_result"
    }
   ],
   "source": [
    "food_fsq = food.loc[food[\"Element\"] == \"Food supply quantity (kg/capita/yr)\"] \n",
    "food_fsq.Y2018.sum()"
   ]
  },
  {
   "cell_type": "code",
   "execution_count": 26,
   "id": "99be6b3f",
   "metadata": {},
   "outputs": [
    {
     "data": {
      "text/plain": [
       "287997.08999999997"
      ]
     },
     "execution_count": 26,
     "metadata": {},
     "output_type": "execute_result"
    }
   ],
   "source": [
    "food_iq = food.loc[food[\"Element\"] == \"Import Quantity\"] \n",
    "food_iq.Y2018.sum()"
   ]
  },
  {
   "cell_type": "code",
   "execution_count": 27,
   "id": "de555594",
   "metadata": {},
   "outputs": [
    {
     "data": {
      "text/plain": [
       "2161192.1"
      ]
     },
     "execution_count": 27,
     "metadata": {},
     "output_type": "execute_result"
    }
   ],
   "source": [
    "food_dsq = food.loc[food[\"Element\"] == \"Domestic supply quantity\"] \n",
    "food_dsq.Y2018.sum()"
   ]
  },
  {
   "cell_type": "code",
   "execution_count": 28,
   "id": "02a2f1a1",
   "metadata": {},
   "outputs": [
    {
     "data": {
      "text/plain": [
       "455261.0"
      ]
     },
     "execution_count": 28,
     "metadata": {},
     "output_type": "execute_result"
    }
   ],
   "source": [
    "food_fs = food.loc[food[\"Element\"] == \"Food supply (kcal/capita/day)\"] \n",
    "food_fs.Y2018.sum()"
   ]
  },
  {
   "cell_type": "markdown",
   "id": "6b0730d9",
   "metadata": {},
   "source": [
    "### Answer: Food supply quantity (kg/capita/yr)"
   ]
  },
  {
   "cell_type": "markdown",
   "id": "72877cfa",
   "metadata": {},
   "source": [
    "# Which of these elements had the 3rd lowest sum in 2018?"
   ]
  },
  {
   "cell_type": "code",
   "execution_count": 29,
   "id": "0d24fd97",
   "metadata": {},
   "outputs": [
    {
     "data": {
      "text/plain": [
       "25263.14"
      ]
     },
     "execution_count": 29,
     "metadata": {},
     "output_type": "execute_result"
    }
   ],
   "source": [
    "food_seed = food.loc[food[\"Element\"] == \"Seed\"] \n",
    "food_seed.Y2018.sum()"
   ]
  },
  {
   "cell_type": "code",
   "execution_count": 30,
   "id": "01fdfc0f",
   "metadata": {},
   "outputs": [
    {
     "data": {
      "text/plain": [
       "11833.56"
      ]
     },
     "execution_count": 30,
     "metadata": {},
     "output_type": "execute_result"
    }
   ],
   "source": [
    "food_prot = food.loc[food[\"Element\"] == \"Protein supply quantity (g/capita/day)\"] \n",
    "food_prot.Y2018.sum()"
   ]
  },
  {
   "cell_type": "code",
   "execution_count": 31,
   "id": "cc77811c",
   "metadata": {},
   "outputs": [
    {
     "data": {
      "text/plain": [
       "10258.689999999999"
      ]
     },
     "execution_count": 31,
     "metadata": {},
     "output_type": "execute_result"
    }
   ],
   "source": [
    "food_fat = food.loc[food[\"Element\"] == \"Fat supply quantity (g/capita/day)\"] \n",
    "food_fat.Y2018.sum()"
   ]
  },
  {
   "cell_type": "markdown",
   "id": "5398b4df",
   "metadata": {},
   "source": [
    "### Answer: Seed"
   ]
  },
  {
   "cell_type": "markdown",
   "id": "2fd2720b",
   "metadata": {},
   "source": [
    "# What is the total Import Quantity in Algeria in 2018?"
   ]
  },
  {
   "cell_type": "code",
   "execution_count": 32,
   "id": "5836da30",
   "metadata": {},
   "outputs": [
    {
     "data": {
      "text/plain": [
       "36238.29"
      ]
     },
     "execution_count": 32,
     "metadata": {},
     "output_type": "execute_result"
    }
   ],
   "source": [
    "food_im_qty_alg = food_im_qty.loc[food_im_qty[\"Area\"] == \"Algeria\"] \n",
    "food_im_qty_alg.Y2018.sum()"
   ]
  },
  {
   "cell_type": "markdown",
   "id": "89e5676f",
   "metadata": {},
   "source": [
    "### Answer: 36238.29"
   ]
  },
  {
   "cell_type": "markdown",
   "id": "ffb3c220",
   "metadata": {},
   "source": [
    "# What is the total number of unique countries in the dataset?"
   ]
  },
  {
   "cell_type": "code",
   "execution_count": 33,
   "id": "c6acdca7",
   "metadata": {},
   "outputs": [],
   "source": [
    "countries_un = food.Area.unique()"
   ]
  },
  {
   "cell_type": "code",
   "execution_count": 34,
   "id": "0a5ef1d6",
   "metadata": {},
   "outputs": [
    {
     "data": {
      "text/plain": [
       "49"
      ]
     },
     "execution_count": 34,
     "metadata": {},
     "output_type": "execute_result"
    }
   ],
   "source": [
    "len(countries_un)"
   ]
  },
  {
   "cell_type": "markdown",
   "id": "03f11a26",
   "metadata": {},
   "source": [
    "### Answer: 49"
   ]
  }
 ],
 "metadata": {
  "kernelspec": {
   "display_name": "Python 3",
   "language": "python",
   "name": "python3"
  },
  "language_info": {
   "codemirror_mode": {
    "name": "ipython",
    "version": 3
   },
   "file_extension": ".py",
   "mimetype": "text/x-python",
   "name": "python",
   "nbconvert_exporter": "python",
   "pygments_lexer": "ipython3",
   "version": "3.8.8"
  }
 },
 "nbformat": 4,
 "nbformat_minor": 5
}
